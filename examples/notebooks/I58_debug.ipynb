{
 "cells": [
  {
   "cell_type": "code",
   "execution_count": 1,
   "metadata": {},
   "outputs": [],
   "source": [
    "%load_ext autoreload\n",
    "%autoreload 2"
   ]
  },
  {
   "cell_type": "code",
   "execution_count": 2,
   "metadata": {},
   "outputs": [],
   "source": [
    "from ngtools.datasources import ZarrDataSource\n",
    "\n",
    "import logging\n",
    "logging.basicConfig()\n",
    "# logging.getLogger().setLevel(0)\n",
    "logging.getLogger(\"ngtools\").setLevel(0)"
   ]
  },
  {
   "cell_type": "code",
   "execution_count": 3,
   "metadata": {},
   "outputs": [],
   "source": [
    "HIPCT = {\n",
    "    \"hemi\": \"https://dandiarchive.s3.amazonaws.com/zarr/5c37c233-222f-4e60-96e7-a7536e08ef61/\",\n",
    "    \"broca\": \"https://dandiarchive.s3.amazonaws.com/zarr/a2861b6d-074a-46cc-a221-b6e9a75dc6be/\",\n",
    "    \"brainstem\": \"https://dandiarchive.s3.amazonaws.com/zarr/1904d2d9-ed31-4cf5-b723-eedff28d2c7c/\",\n",
    "    \"ic2\": [\n",
    "        \"https://neuroglancer.lincbrain.org/zarr/57d4b065-47f3-48a1-ba68-440ceebaf2ae/\",\n",
    "        \"https://neuroglancer.lincbrain.org/zarr/fa22b3b8-9950-4859-b674-ba60bda2da19/\",\n",
    "        \"https://neuroglancer.lincbrain.org/zarr/6d25507c-ae9d-4f61-9a92-8644783adfd9/\",\n",
    "    ]\n",
    "}"
   ]
  },
  {
   "cell_type": "code",
   "execution_count": 5,
   "metadata": {},
   "outputs": [
    {
     "data": {
      "text/plain": [
       "CoordinateSpaceTransform({\"matrix\": [[1.0, 0.0, 0.0, -7.565], [0.0, 1.0, 0.0, -7.565], [0.0, 0.0, 1.0, -7.565]], \"inputDimensions\": {\"z\": [15.13, \"um\"], \"y\": [15.13, \"um\"], \"x\": [15.13, \"um\"]}, \"outputDimensions\": {\"z\": [15.13, \"um\"], \"y\": [15.13, \"um\"], \"x\": [15.13, \"um\"]}})"
      ]
     },
     "execution_count": 5,
     "metadata": {},
     "output_type": "execute_result"
    }
   ],
   "source": [
    "hipct_hemi = ZarrDataSource(HIPCT[\"hemi\"])\n",
    "\n",
    "hipct_hemi.transform"
   ]
  }
 ],
 "metadata": {
  "kernelspec": {
   "display_name": ".venv",
   "language": "python",
   "name": "python3"
  },
  "language_info": {
   "codemirror_mode": {
    "name": "ipython",
    "version": 3
   },
   "file_extension": ".py",
   "mimetype": "text/x-python",
   "name": "python",
   "nbconvert_exporter": "python",
   "pygments_lexer": "ipython3",
   "version": "3.10.15"
  }
 },
 "nbformat": 4,
 "nbformat_minor": 2
}

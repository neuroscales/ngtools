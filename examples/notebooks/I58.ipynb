{
 "cells": [
  {
   "cell_type": "code",
   "execution_count": 1,
   "metadata": {},
   "outputs": [],
   "source": [
    "DANDI26_I58     = \"dandi://dandi/000026@draft/sub-I58\"\n",
    "LINC05_I58      = \"dandi://linc/000005@draft/rawdata/sub-I58\"\n",
    "LINC05_I58_REG  = \"dandi://linc/000005@draft/derivatives/registration-nitorch/sub-I58\"\n",
    "LINC05_I58_LOC  = \"/Users/balbasty/localdata/linc/lincbrain/000005/derivatives/registration-nitorch/sub-I58\"\n",
    "\n",
    "HIPCT = {\n",
    "    \"hemi\":      f\"{DANDI26_I58}/ses-Hip-CT/micr/sub-I58_sample-01_chunk-01_hipCT.ome.zarr\",\n",
    "    \"broca\":     f\"{DANDI26_I58}/ses-Hip-CT/micr/sub-I58_sample-01_chunk-02_hipCT.ome.zarr\",\n",
    "    \"brainstem\": f\"{DANDI26_I58}/ses-Hip-CT/micr/sub-I58_sample-01_chunk-03_hipCT.ome.zarr\",\n",
    "    \"ic2\": {\n",
    "        \"101\":   f\"{LINC05_I58}/micr/sub-I58_sample-blockIC2_chunk-101_PC.ome.zarr\",\n",
    "        \"201\":   f\"{LINC05_I58}/micr/sub-I58_sample-blockIC2_chunk-201_PC.ome.zarr\",\n",
    "        \"401\":   f\"{LINC05_I58}/micr/sub-I58_sample-blockIC2_chunk-401_PC.ome.zarr\",\n",
    "    }\n",
    "}\n",
    "\n",
    "XFM = {\n",
    "    \"HIPCT_01_02\":      f\"{LINC05_I58_REG}/xfm/sub-I58_from-XPCT01_to-XPCT02_desc-final_xfm.lta\",\n",
    "    \"HIPCT_01_03\":      f\"{LINC05_I58_REG}/xfm/sub-I58_from-XPCT01_to-XPCT03_desc-final_xfm.lta\",\n",
    "    \"HIPCT_01_401\":     f\"{LINC05_I58_REG}/xfm/sub-I58_from-XPCT01_to-IC401_desc-finalfix_xfm.lta\",\n",
    "    \"DWI_HIPCT_init\":   f\"{LINC05_I58_REG}/xfm/sub-I58_from-dwiHemi_to-XPCT01_desc-init_xfm.lta\",\n",
    "    \"HIPCT_RAS\":        f\"{LINC05_I58_REG}/xfm/sub-I58_from-XPCT01_to-RAS_xfm.lta\"\n",
    "}\n",
    "\n",
    "DWI = {\n",
    "    \"ic1\": {\n",
    "        \"b0\":   f\"{LINC05_I58_REG}/dwi/sub-I58_sample-IC1_desc-b0_space-XPCT01_dwi.nii.zarr\",\n",
    "    },\n",
    "    \"hemi\": {\n",
    "        \"b0\":   f\"{LINC05_I58_REG}/dwi/sub-I58_sample-hemi_desc-b0_space-XPCT01_dwi.nii.zarr\",\n",
    "        # \"trk\":  f\"{LINC05_I58_REG}/dwi/sub-I58_desc-CSD_space-XPCT01_tractography.trk\",\n",
    "        \"trk\":  f\"{LINC05_I58_LOC}/dwi/sub-I58_desc-CSD_space-XPCT01_tractography.trk\",\n",
    "    }\n",
    "}"
   ]
  },
  {
   "cell_type": "code",
   "execution_count": 2,
   "metadata": {},
   "outputs": [],
   "source": [
    "colormap_orient = \"\"\"\n",
    "vec3 colormapOrient(vec3 orient) {\n",
    "  vec3 result;\n",
    "  result.r = abs(orient[0]);\n",
    "  result.g = abs(orient[1]);\n",
    "  result.b = abs(orient[2]);\n",
    "  return clamp(result, 0.0, 1.0);\n",
    "}\n",
    "\"\"\"\n",
    "\n",
    "# Runing this in the skeleton shader uses orientation to color tracts\n",
    "orient_shader = colormap_orient + \"\"\"\n",
    "#uicontrol bool orient_color checkbox(default=true)\n",
    "void main() {\n",
    "  if (orient_color)\n",
    "    emitRGB(colormapOrient(orientation));\n",
    "  else\n",
    "    emitDefault();\n",
    "}\n",
    "\"\"\"\n",
    "\n",
    "def rotate_orient_shader(mat):\n",
    "    return (colormap_orient +\n",
    "\"\"\"\n",
    "#uicontrol bool orient_color checkbox(default=true)\n",
    "void main() {\n",
    "\"\"\"\n",
    "+\n",
    "f\"\"\"\n",
    "    mat3 mat = mat3(\n",
    "      {mat[0, 0]}, {mat[1, 0]}, {mat[2, 0]},\n",
    "      {mat[0, 1]}, {mat[1, 1]}, {mat[2, 1]},\n",
    "      {mat[0, 2]}, {mat[1, 2]}, {mat[2, 2]}\n",
    "    );\n",
    "    vec3 orient_rot = mat * orientation;\n",
    "  if (orient_color)\n",
    "    emitRGB(colormapOrient(orient_rot));\n",
    "  else\n",
    "    emitDefault();\n",
    "\"\"\"\n",
    "+\n",
    "\"\"\"\n",
    "}\n",
    "\"\"\"\n",
    ")\n",
    "\n",
    "\n",
    "ic_shader = \"\"\"\n",
    "#uicontrol invlerp normalized\n",
    "void main() {\n",
    "  vec4 rgba;\n",
    "  rgba.r = normalized();\n",
    "  rgba.a = normalized();\n",
    "  emitRGBA(rgba);\n",
    "}\n",
    "\"\"\""
   ]
  },
  {
   "cell_type": "code",
   "execution_count": 3,
   "metadata": {},
   "outputs": [
    {
     "name": "stdout",
     "output_type": "stream",
     "text": [
      "viewer:       http://1.0.0.127.in-addr.arpa:59839/v/1/\n",
      "fileserver:   http://0.0.0.0:59838/\n",
      "Loaded: {'type': 'image', 'source': [{'url': 'zarr2://https://dandiarchive.s3.amazonaws.com/zarr/5c37c233-222f-4e60-96e7-a7536e08ef61/'}], 'shaderControls': {'normalized': {'range': [23005.0, 27807.0], 'window': [3412.0, 57812.0]}}, 'name': 'HiP-CT (hemi)'}\n",
      "Loaded: {'type': 'image', 'source': [{'url': 'zarr2://https://dandiarchive.s3.amazonaws.com/zarr/a2861b6d-074a-46cc-a221-b6e9a75dc6be/'}], 'shaderControls': {'normalized': {'range': [13225.0, 17572.0], 'window': [9912.0, 48994.0]}}, 'name': 'HiP-CT (broca)'}\n",
      "Loaded: {'type': 'image', 'source': [{'url': 'zarr2://https://dandiarchive.s3.amazonaws.com/zarr/1904d2d9-ed31-4cf5-b723-eedff28d2c7c/'}], 'shaderControls': {'normalized': {'range': [7933.0, 10301.0], 'window': [3804.0, 61110.0]}}, 'name': 'HiP-CT (brainstem)'}\n",
      "Loaded: {'type': 'image', 'source': [{'url': 'zarr2://https://neuroglancer.lincbrain.org/zarr/6d25507c-ae9d-4f61-9a92-8644783adfd9/'}], 'shaderControls': {'normalized': {'range': [18301.0, 19551.0], 'window': [11254.0, 49839.0]}}, 'name': 'HiP-CT (internal capsule)'}\n",
      "Loaded: {'type': 'image', 'source': [{'url': 'zarr2://https://neuroglancer.lincbrain.org/zarr/899b7ef3-e767-444f-bde1-d281f2e3e779/'}], 'shaderControls': {'normalized': {'range': [0.0, 3.6884284554616855e-07], 'window': [0.0, 5.833504133079259e-07]}}, 'name': 'dMRI (hemi)'}\n",
      "Loaded: {'type': 'image', 'source': [{'url': 'zarr2://https://neuroglancer.lincbrain.org/zarr/8e3bda13-0943-46d0-98c0-5946df15de1f/'}], 'shaderControls': {'normalized': {'range': [0.0, 2052976.5], 'window': [0.0, 2474057.5]}}, 'name': 'dMRI (internal capsule)'}\n",
      "Loaded: {'type': 'segmentation', 'source': [{'url': <ngtools.local.tracts.TractSkeleton object at 0x16b630e50>, 'transform': {'inputDimensions': {'x': [0.001, 'm'], 'y': [0.001, 'm'], 'z': [0.001, 'm']}, 'outputDimensions': {'x': [0.001, 'm'], 'y': [0.001, 'm'], 'z': [0.001, 'm']}, 'matrix': [[1.0, 0.0, 0.0, 0.0], [0.0, 1.0, 0.0, 0.0], [0.0, 0.0, 1.0, 0.0]]}}], 'skeletonRendering': {'shader': 'vec3 colormapOrient(vec3 orient) {\\n    vec3 result;\\n    result.r = abs(orient[0]);\\n    result.g = abs(orient[1]);\\n    result.b = abs(orient[2]);\\n    return clamp(result, 0.0, 1.0);\\n}\\n\\n#uicontrol bool orient_color checkbox(default=true)\\nvoid main() {\\n    if (orient_color)\\n        emitRGB(colormapOrient(orientation));\\n    else\\n        emitDefault();\\n}\\n', 'mode2d': 'lines', 'lineWidth2d': 0.01}, 'selectedAlpha': 0.5, 'notSelectedAlpha': 0, 'segments': ['1'], 'name': 'Tractography (hemi)'}\n"
     ]
    }
   ],
   "source": [
    "# from ngtools.scene import Scene\n",
    "from ngtools.local.viewer import LocalNeuroglancer\n",
    "\n",
    "# import logging\n",
    "# logging.basicConfig()\n",
    "# logging.getLogger().setLevel(0)\n",
    "\n",
    "viewer = LocalNeuroglancer()\n",
    "print('viewer:      ', viewer.get_viewer_url())\n",
    "print('fileserver:  ', viewer.get_fileserver_url())\n",
    "\n",
    "viewer.load({\"HiP-CT (hemi)\":               \"zarr://\" + HIPCT[\"hemi\"]})\n",
    "viewer.load({\"HiP-CT (broca)\":              \"zarr://\" + HIPCT[\"broca\"]},      transform=XFM[\"HIPCT_01_02\"])\n",
    "viewer.load({\"HiP-CT (brainstem)\":          \"zarr://\" + HIPCT[\"brainstem\"]},  transform=XFM[\"HIPCT_01_03\"])\n",
    "viewer.load({\"HiP-CT (internal capsule)\":   \"zarr://\" + HIPCT[\"ic2\"][\"401\"]}, transform=XFM[\"HIPCT_01_401\"])\n",
    "viewer.load({\"dMRI (hemi)\":                 \"zarr://\" + DWI[\"hemi\"][\"b0\"]})\n",
    "viewer.load({\"dMRI (internal capsule)\":     \"zarr://\" + DWI[\"ic1\"][\"b0\"]})\n",
    "viewer.load({\"Tractography (hemi)\":         \"trk://\"  + DWI[\"hemi\"][\"trk\"]})\n",
    "viewer.transform(XFM[\"HIPCT_RAS\"], inv=True)\n",
    "viewer.space(\"radio\")\n",
    "\n",
    "# rotate tract colors\n",
    "with viewer.scene() as scene:\n",
    "    hipct_ras = scene.layers[\"HiP-CT (hemi)\"].source[0].transform.matrix\n",
    "    scene.layers[\"Tractography (hemi)\"].skeleton_shader = rotate_orient_shader(hipct_ras[:3, :3])\n",
    "    scene.showSlices = False\n"
   ]
  },
  {
   "cell_type": "code",
   "execution_count": 4,
   "metadata": {},
   "outputs": [
    {
     "data": {
      "text/plain": [
       "True"
      ]
     },
     "execution_count": 4,
     "metadata": {},
     "output_type": "execute_result"
    }
   ],
   "source": [
    "import webbrowser\n",
    "\n",
    "webbrowser.open(viewer.get_viewer_url())\n",
    "# webbrowser.open(viewer.state(url=True))"
   ]
  }
 ],
 "metadata": {
  "kernelspec": {
   "display_name": ".venv",
   "language": "python",
   "name": "python3"
  },
  "language_info": {
   "codemirror_mode": {
    "name": "ipython",
    "version": 3
   },
   "file_extension": ".py",
   "mimetype": "text/x-python",
   "name": "python",
   "nbconvert_exporter": "python",
   "pygments_lexer": "ipython3",
   "version": "3.10.15"
  }
 },
 "nbformat": 4,
 "nbformat_minor": 2
}

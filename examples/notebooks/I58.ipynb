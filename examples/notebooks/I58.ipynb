{
 "cells": [
  {
   "cell_type": "code",
   "execution_count": null,
   "metadata": {},
   "outputs": [],
   "source": [
    "\"\"\"\n",
    "load dandi://dandi/000026@draft/sub-I58/ses-Hip-CT/micr/sub-I58_sample-01_chunk-01_hipCT.ome.zarr --name \"HiP-CT (hemi)\"\n",
    "load dandi://dandi/000026@draft/sub-I58/ses-Hip-CT/micr/sub-I58_sample-01_chunk-02_hipCT.ome.zarr --name \"HiP-CT (broca)\" --transform dandi://linc/000005@draft/derivatives/registration-nitorch/sub-I58/xfm/sub-I58_from-XPCT01_to-XPCT02_desc-final_xfm.lta\n",
    "load dandi://dandi/000026@draft/sub-I58/ses-Hip-CT/micr/sub-I58_sample-01_chunk-03_hipCT.ome.zarr --name \"HiP-CT (brainstem)\" --transform dandi://linc/000005@draft/derivatives/registration-nitorch/sub-I58/xfm/sub-I58_from-XPCT01_to-XPCT03_desc-final_xfm.lta\n",
    "load dandi://linc/000005@draft/rawdata/sub-I58/micr/sub-I58_sample-blockIC2_chunk-401_PC.ome.zarr --name \"HiP-CT (internal capsule)\" --transform dandi://linc/000005@draft/derivatives/registration-nitorch/sub-I58/xfm/sub-I58_from-XPCT01_to-IC401_desc-final_xfm.lta\n",
    "load dandi://linc/000005@draft/derivatives/registration-nitorch/sub-I58/dwi/sub-I58_sample-hemi_desc-b0_space-XPCT01_dwi.nii.zarr --name \"dMRI (hemi)\"\n",
    "load dandi://linc/000005@draft/derivatives/registration-nitorch/sub-I58/dwi/sub-I58_sample-IC1_desc-b0_space-XPCT01_dwi.nii.zarr --name \"dMRI (internal capsule)\" --shader blackred\n",
    "load /Users/balbasty/localdata/linc/lincbrain/000005/derivatives/registration-nitorch/sub-I58/dwi/sub-I58_desc-CSD_space-XPCT01_tractography.trk --name \"Tractography (hemi)\"\n",
    "transform dandi://linc/000005@draft/derivatives/registration-nitorch/sub-I58/xfm/sub-I58_from-XPCT01_to-RAS_xfm.lta\n",
    "\"\"\"\n",
    "\n",
    "DANDI26_I58     = \"dandi://dandi/000026@draft/sub-I58\"\n",
    "LINC05_I58      = \"dandi://linc/000005@draft/rawdata/sub-I58\"\n",
    "LINC05_I58_REG  = \"dandi://linc/000005@draft/derivatives/registration-nitorch/sub-I58\"\n",
    "LINC05_I58_LOC  = \"/Users/balbasty/localdata/linc/lincbrain/000005/derivatives/registration-nitorch/sub-I58\"\n",
    "\n",
    "HIPCT = {\n",
    "    \"hemi\":      f\"{DANDI26_I58}/ses-Hip-CT/micr/sub-I58_sample-01_chunk-01_hipCT.ome.zarr\",\n",
    "    \"broca\":     f\"{DANDI26_I58}/ses-Hip-CT/micr/sub-I58_sample-01_chunk-02_hipCT.ome.zarr\",\n",
    "    \"brainstem\": f\"{DANDI26_I58}/ses-Hip-CT/micr/sub-I58_sample-01_chunk-03_hipCT.ome.zarr\",\n",
    "    \"ic2\": {\n",
    "        \"101\":   f\"{LINC05_I58}/micr/sub-I58_sample-blockIC2_chunk-101_PC.ome.zarr\",\n",
    "        \"201\":   f\"{LINC05_I58}/micr/sub-I58_sample-blockIC2_chunk-201_PC.ome.zarr\",\n",
    "        \"401\":   f\"{LINC05_I58}/micr/sub-I58_sample-blockIC2_chunk-401_PC.ome.zarr\",\n",
    "    }\n",
    "}\n",
    "\n",
    "XFM = {\n",
    "    \"HIPCT_01_02\":      f\"{LINC05_I58_REG}/xfm/sub-I58_from-XPCT01_to-XPCT02_desc-final_xfm.lta\",\n",
    "    \"HIPCT_01_03\":      f\"{LINC05_I58_REG}/xfm/sub-I58_from-XPCT01_to-XPCT03_desc-final_xfm.lta\",\n",
    "    \"HIPCT_01_401\":     f\"{LINC05_I58_REG}/xfm/sub-I58_from-XPCT01_to-IC401_desc-finalfix_xfm.lta\",\n",
    "    \"DWI_HIPCT_init\":   f\"{LINC05_I58_REG}/xfm/sub-I58_from-dwiHemi_to-XPCT01_desc-init_xfm.lta\",\n",
    "    \"HIPCT_RAS\":        f\"{LINC05_I58_REG}/xfm/sub-I58_from-XPCT01_to-RAS_xfm.lta\"\n",
    "}\n",
    "\n",
    "DWI = {\n",
    "    \"ic1\": {\n",
    "        \"b0\":   f\"{LINC05_I58_REG}/dwi/sub-I58_sample-IC1_desc-b0_space-XPCT01_dwi.nii.zarr\",\n",
    "    },\n",
    "    \"hemi\": {\n",
    "        \"b0\":   f\"{LINC05_I58_REG}/dwi/sub-I58_sample-hemi_desc-b0_space-XPCT01_dwi.nii.zarr\",\n",
    "        # \"trk\":  f\"{LINC05_I58_REG}/dwi/sub-I58_desc-CSD_space-XPCT01_tractography.trk\",\n",
    "        \"trk\":  f\"{LINC05_I58_LOC}/dwi/sub-I58_desc-CSD_space-XPCT01_tractography.trk\",\n",
    "    }\n",
    "}"
   ]
  },
  {
   "cell_type": "code",
   "execution_count": null,
   "metadata": {},
   "outputs": [
    {
     "name": "stdout",
     "output_type": "stream",
     "text": [
      "viewer:       http://eduroam-int-dhcp-97-118-202.ucl.ac.uk:59407/v/1/\n",
      "fileserver:   http://10.97.118.202:59408/\n",
      "Loaded: {'type': 'image', 'source': [{'url': 'zarr2://https://dandiarchive.s3.amazonaws.com/zarr/5c37c233-222f-4e60-96e7-a7536e08ef61/', 'transform': {'matrix': [[1.0, 0.0, 0.0, -7.565], [0.0, 1.0, 0.0, -7.565], [0.0, 0.0, 1.0, -7.565]], 'inputDimensions': {'z': [np.float64(15.13), 'um'], 'y': [np.float64(15.13), 'um'], 'x': [np.float64(15.13), 'um']}, 'outputDimensions': {'z': [np.float64(15.13), 'um'], 'y': [np.float64(15.13), 'um'], 'x': [np.float64(15.13), 'um']}}}], 'shader': '\\n#uicontrol invlerp normalized\\nvoid main() {\\nemitGrayscale(normalized());\\n}\\n', 'shaderControls': {'normalized': {'range': [23005.0, 27807.0], 'window': [3412.0, 57812.0]}}, 'name': 'HiP-CT (hemi)'}\n",
      "Loaded: {'type': 'image', 'source': [{'url': 'zarr2://https://dandiarchive.s3.amazonaws.com/zarr/a2861b6d-074a-46cc-a221-b6e9a75dc6be/', 'transform': {'matrix': [[1.0, 0.0, 0.0, -3.105], [0.0, 1.0, 0.0, -3.105], [0.0, 0.0, 1.0, -3.105]], 'inputDimensions': {'z': [np.float64(6.21), 'um'], 'y': [np.float64(6.21), 'um'], 'x': [np.float64(6.21), 'um']}, 'outputDimensions': {'z': [np.float64(6.21), 'um'], 'y': [np.float64(6.21), 'um'], 'x': [np.float64(6.21), 'um']}}}], 'shader': '\\n#uicontrol invlerp normalized\\nvoid main() {\\nemitGrayscale(normalized());\\n}\\n', 'shaderControls': {'normalized': {'range': [13225.0, 17572.0], 'window': [9912.0, 48994.0]}}, 'name': 'HiP-CT (broca)'}\n",
      "Loaded: {'type': 'image', 'source': [{'url': 'zarr2://https://dandiarchive.s3.amazonaws.com/zarr/1904d2d9-ed31-4cf5-b723-eedff28d2c7c/', 'transform': {'matrix': [[1.0, 0.0, 0.0, -3.105], [0.0, 1.0, 0.0, -3.105], [0.0, 0.0, 1.0, -3.105]], 'inputDimensions': {'z': [np.float64(6.21), 'um'], 'y': [np.float64(6.21), 'um'], 'x': [np.float64(6.21), 'um']}, 'outputDimensions': {'z': [np.float64(6.21), 'um'], 'y': [np.float64(6.21), 'um'], 'x': [np.float64(6.21), 'um']}}}], 'shader': '\\n#uicontrol invlerp normalized\\nvoid main() {\\nemitGrayscale(normalized());\\n}\\n', 'shaderControls': {'normalized': {'range': [7933.0, 10301.0], 'window': [3804.0, 61110.0]}}, 'name': 'HiP-CT (brainstem)'}\n",
      "Loaded: {'type': 'image', 'source': [{'url': 'zarr2://http://10.97.118.202:59408/linc/zarr/6d25507c-ae9d-4f61-9a92-8644783adfd9/', 'transform': {'matrix': [[1.0, 0.0, 0.0, 0.0], [0.0, 1.0, 0.0, 0.0], [0.0, 0.0, 1.0, 0.0]], 'inputDimensions': {'x': [np.float64(4.236), 'um'], 'y': [np.float64(4.236), 'um'], 'z': [np.float64(4.236), 'um']}, 'outputDimensions': {'x': [np.float64(4.236), 'um'], 'y': [np.float64(4.236), 'um'], 'z': [np.float64(4.236), 'um']}}}], 'shader': '\\n#uicontrol invlerp normalized\\nvoid main() {\\nemitGrayscale(normalized());\\n}\\n', 'shaderControls': {'normalized': {'range': [0.0, 19416.0], 'window': [0.0, 49839.0]}}, 'name': 'HiP-CT (internal capsule)'}\n",
      "Loaded: {'type': 'image', 'source': [{'url': 'zarr2://http://10.97.118.202:59408/linc/zarr/899b7ef3-e767-444f-bde1-d281f2e3e779/', 'transform': {'inputDimensions': {'t': [np.float64(1.0), 's'], 'z': [np.float64(0.24208000302314758), 'mm'], 'y': [np.float64(0.24208000302314758), 'mm'], 'x': [np.float64(0.24208000302314758), 'mm']}, 'outputDimensions': {'x': [np.float64(1.0), 'mm'], 'y': [np.float64(1.0), 'mm'], 'z': [np.float64(1.0), 'mm'], 't': [np.float64(1.0), 's']}, 'matrix': [[0.0, 0.0, 0.0, 1.0, 0.0], [0.0, 0.0, 1.0, 0.0, 0.0], [0.0, 1.0, 0.0, 0.0, 0.0], [1.0, 0.0, 0.0, 0.0, 0.0]]}}], 'shader': '\\n#uicontrol invlerp normalized\\nvoid main() {\\nemitGrayscale(normalized());\\n}\\n', 'shaderControls': {'normalized': {'range': [0.0, 3.6884284554616855e-07], 'window': [0.0, 5.833504133079259e-07]}}, 'name': 'dMRI (hemi)'}\n",
      "Loaded: {'type': 'image', 'source': [{'url': 'zarr2://http://10.97.118.202:59408/linc/zarr/8e3bda13-0943-46d0-98c0-5946df15de1f/', 'transform': {'inputDimensions': {'t': [np.float64(1.0), 's'], 'z': [np.float64(0.5227490067481995), 'mm'], 'y': [np.float64(0.44594529271125793), 'mm'], 'x': [np.float64(0.5030686855316162), 'mm']}, 'outputDimensions': {'x': [np.float64(1.0), 'mm'], 'y': [np.float64(1.0), 'mm'], 'z': [np.float64(1.0), 'mm'], 't': [np.float64(1.0), 's']}, 'matrix': [[0.0, -0.27110039790095475, 0.08672535615303993, -0.9504595447537776, 86.37055969238281], [0.0, -0.8588786232766072, 0.3339746185386102, 0.3085716068023903, 82.56293487548828], [0.0, -0.4345482461036276, -0.9385838457878772, 0.037550475605005254, 71.09611511230469], [1.0, 0.0, 0.0, 0.0, 0.0]]}}], 'shader': '\\n#uicontrol invlerp normalized\\nvoid main() {\\nemitGrayscale(normalized());\\n}\\n', 'shaderControls': {'normalized': {'range': [0.0, 2052976.5], 'window': [0.0, 2474057.5]}}, 'name': 'dMRI (internal capsule)'}\n",
      "vec4 blackred(float x, bool alpha) {\n",
      "    float cmap[6] = float[](0.0, 0.0, 0.0, 1.0, 0.0, 0.0);\n",
      "    float y = x * float(6/3 - 1);\n",
      "    int   i = int(floor(y));\n",
      "    int   j = i + 1;\n",
      "    float w = y - float(i);\n",
      "    vec4  result;\n",
      "    result.r = (1.0-w) * cmap[3*i+0] + w * cmap[3*j+0];\n",
      "    result.g = (1.0-w) * cmap[3*i+1] + w * cmap[3*j+1];\n",
      "    result.b = (1.0-w) * cmap[3*i+2] + w * cmap[3*j+2];\n",
      "    result.a = (alpha ? x : 1.0);\n",
      "    return clamp(result, 0.0, 1.0);\n",
      "}\n",
      "#uicontrol invlerp normalized\n",
      "#uicontrol bool alpha_depth checkbox(default=false)\n",
      "void main() {\n",
      "    emitRGBA(blackred(normalized(), alpha_depth));\n",
      "}\n",
      "\n",
      "Loaded: {'type': 'segmentation', 'source': [{'url': <ngtools.local.tracts.TractSkeleton object at 0x11dd26230>, 'transform': {'inputDimensions': {'x': [np.float64(0.001), 'm'], 'y': [np.float64(0.001), 'm'], 'z': [np.float64(0.001), 'm']}, 'outputDimensions': {'x': [np.float64(0.001), 'm'], 'y': [np.float64(0.001), 'm'], 'z': [np.float64(0.001), 'm']}, 'matrix': [[1.0, 0.0, 0.0, 0.0], [0.0, 1.0, 0.0, 0.0], [0.0, 0.0, 1.0, 0.0]]}}], 'skeletonRendering': {'shader': 'vec3 colormapOrient(vec3 orient) {\\nvec3 result;\\nresult.r = abs(orient[0]);\\nresult.g = abs(orient[1]);\\nresult.b = abs(orient[2]);\\nreturn clamp(result, 0.0, 1.0);\\n}\\n\\n#uicontrol bool orient_color checkbox(default=true)\\nvoid main() {\\nvec3 orient = orientation;\\n// <!-- BEGIN ROTATION -->\\n// Order: 00 10 20 01 11 21 02 12 22\\nmat3 mat = mat3(1.0, 0.0, 0.0, 0.0, 1.0, 0.0, 0.0, 0.0, 1.0);\\n// <!-- END ROTATION -->\\norient = mat * orient;\\nif (orient_color)\\n    emitRGB(colormapOrient(orient));\\nelse\\n    emitDefault();\\n}\\n', 'mode2d': 'lines', 'lineWidth2d': 0.01}, 'selectedAlpha': 0.5, 'notSelectedAlpha': 0, 'segments': ['1'], 'name': 'Tractography (hemi)'}\n"
     ]
    },
    {
     "data": {
      "text/plain": [
       "'radio'"
      ]
     },
     "execution_count": 2,
     "metadata": {},
     "output_type": "execute_result"
    }
   ],
   "source": [
    "from ngtools.local.viewer import LocalNeuroglancer\n",
    "\n",
    "viewer = LocalNeuroglancer()\n",
    "print('viewer:      ', viewer.get_viewer_url())\n",
    "print('fileserver:  ', viewer.get_fileserver_url())\n",
    "\n",
    "viewer.load({\"HiP-CT (hemi)\":               \"zarr://\" + HIPCT[\"hemi\"]})\n",
    "viewer.load({\"HiP-CT (broca)\":              \"zarr://\" + HIPCT[\"broca\"]},      transform=XFM[\"HIPCT_01_02\"])\n",
    "viewer.load({\"HiP-CT (brainstem)\":          \"zarr://\" + HIPCT[\"brainstem\"]},  transform=XFM[\"HIPCT_01_03\"])\n",
    "viewer.load({\"HiP-CT (internal capsule)\":   \"zarr://\" + HIPCT[\"ic2\"][\"401\"]}, transform=XFM[\"HIPCT_01_401\"])\n",
    "viewer.load({\"dMRI (hemi)\":                 \"zarr://\" + DWI[\"hemi\"][\"b0\"]})\n",
    "viewer.load({\"dMRI (internal capsule)\":     \"zarr://\" + DWI[\"ic1\"][\"b0\"]},    shader=\"blackred\")\n",
    "viewer.load({\"Tractography (hemi)\":         \"trk://\"  + DWI[\"hemi\"][\"trk\"]})\n",
    "viewer.transform(XFM[\"HIPCT_RAS\"], inv=True)\n",
    "\n",
    "# with viewer.scene() as scene:\n",
    "#     scene.showSlices = False\n"
   ]
  },
  {
   "cell_type": "code",
   "execution_count": 3,
   "metadata": {},
   "outputs": [
    {
     "data": {
      "text/plain": [
       "True"
      ]
     },
     "execution_count": 3,
     "metadata": {},
     "output_type": "execute_result"
    }
   ],
   "source": [
    "import webbrowser\n",
    "\n",
    "webbrowser.open(viewer.get_viewer_url())\n",
    "# webbrowser.open(viewer.state(url=True))"
   ]
  },
  {
   "cell_type": "code",
   "execution_count": 4,
   "metadata": {},
   "outputs": [
    {
     "data": {
      "text/plain": [
       "'radio'"
      ]
     },
     "execution_count": 4,
     "metadata": {},
     "output_type": "execute_result"
    }
   ],
   "source": [
    "viewer.space(layer=\"HiP-CT (internal capsule)\")"
   ]
  },
  {
   "cell_type": "code",
   "execution_count": 5,
   "metadata": {},
   "outputs": [
    {
     "ename": "ValueError",
     "evalue": "('No layer named:', 'world')",
     "output_type": "error",
     "traceback": [
      "\u001b[0;31m---------------------------------------------------------------------------\u001b[0m",
      "\u001b[0;31mValueError\u001b[0m                                Traceback (most recent call last)",
      "Cell \u001b[0;32mIn[5], line 1\u001b[0m\n\u001b[0;32m----> 1\u001b[0m \u001b[43mviewer\u001b[49m\u001b[38;5;241;43m.\u001b[39;49m\u001b[43mspace\u001b[49m\u001b[43m(\u001b[49m\u001b[43mlayer\u001b[49m\u001b[38;5;241;43m=\u001b[39;49m\u001b[38;5;124;43m\"\u001b[39;49m\u001b[38;5;124;43mworld\u001b[39;49m\u001b[38;5;124;43m\"\u001b[39;49m\u001b[43m)\u001b[49m\n",
      "File \u001b[0;32m~/Dropbox/Workspace/code/neuroscales/ngtools/ngtools/local/viewer.py:69\u001b[0m, in \u001b[0;36maction.<locals>.decorator.<locals>.wrapper\u001b[0;34m(self, *args, **kwargs)\u001b[0m\n\u001b[1;32m     67\u001b[0m     \u001b[38;5;28;01mwith\u001b[39;00m \u001b[38;5;28mself\u001b[39m\u001b[38;5;241m.\u001b[39mviewer\u001b[38;5;241m.\u001b[39mtxn(overwrite\u001b[38;5;241m=\u001b[39m\u001b[38;5;28;01mTrue\u001b[39;00m) \u001b[38;5;28;01mas\u001b[39;00m state:\n\u001b[1;32m     68\u001b[0m         kwargs[\u001b[38;5;124m'\u001b[39m\u001b[38;5;124mstate\u001b[39m\u001b[38;5;124m'\u001b[39m] \u001b[38;5;241m=\u001b[39m state\n\u001b[0;32m---> 69\u001b[0m         result \u001b[38;5;241m=\u001b[39m \u001b[43mfunc\u001b[49m\u001b[43m(\u001b[49m\u001b[38;5;28;43mself\u001b[39;49m\u001b[43m,\u001b[49m\u001b[43m \u001b[49m\u001b[38;5;241;43m*\u001b[39;49m\u001b[43margs\u001b[49m\u001b[43m,\u001b[49m\u001b[43m \u001b[49m\u001b[38;5;241;43m*\u001b[39;49m\u001b[38;5;241;43m*\u001b[39;49m\u001b[43mkwargs\u001b[49m\u001b[43m)\u001b[49m\n\u001b[1;32m     70\u001b[0m     \u001b[38;5;28;01mreturn\u001b[39;00m result\n\u001b[1;32m     71\u001b[0m \u001b[38;5;28;01melse\u001b[39;00m:\n",
      "File \u001b[0;32m~/Dropbox/Workspace/code/neuroscales/ngtools/ngtools/local/viewer.py:95\u001b[0m, in \u001b[0;36mstate_action.<locals>.func\u001b[0;34m(self, state, *args, **kwargs)\u001b[0m\n\u001b[1;32m     93\u001b[0m \u001b[38;5;66;03m# run action\u001b[39;00m\n\u001b[1;32m     94\u001b[0m scene_fn \u001b[38;5;241m=\u001b[39m \u001b[38;5;28mgetattr\u001b[39m(scene, name)\n\u001b[0;32m---> 95\u001b[0m out \u001b[38;5;241m=\u001b[39m \u001b[43mscene_fn\u001b[49m\u001b[43m(\u001b[49m\u001b[38;5;241;43m*\u001b[39;49m\u001b[43margs\u001b[49m\u001b[43m,\u001b[49m\u001b[43m \u001b[49m\u001b[38;5;241;43m*\u001b[39;49m\u001b[38;5;241;43m*\u001b[39;49m\u001b[43mkwargs\u001b[49m\u001b[43m)\u001b[49m\n\u001b[1;32m     96\u001b[0m \u001b[38;5;66;03m# save state\u001b[39;00m\n\u001b[1;32m     97\u001b[0m \u001b[38;5;28;01mfor\u001b[39;00m key \u001b[38;5;129;01min\u001b[39;00m scene\u001b[38;5;241m.\u001b[39mto_json()\u001b[38;5;241m.\u001b[39mkeys():\n",
      "File \u001b[0;32m~/Dropbox/Workspace/code/neuroscales/ngtools/ngtools/scene.py:452\u001b[0m, in \u001b[0;36mautolog.<locals>.wrapper\u001b[0;34m(self, *args, **kwargs)\u001b[0m\n\u001b[1;32m    447\u001b[0m \u001b[38;5;28;01mif\u001b[39;00m (\n\u001b[1;32m    448\u001b[0m     LOG\u001b[38;5;241m.\u001b[39mlevel \u001b[38;5;241m<\u001b[39m\u001b[38;5;241m=\u001b[39m logging\u001b[38;5;241m.\u001b[39mDEBUG \u001b[38;5;129;01mor\u001b[39;00m\n\u001b[1;32m    449\u001b[0m     \u001b[38;5;28mself\u001b[39m\u001b[38;5;241m.\u001b[39mstdio\u001b[38;5;241m.\u001b[39m_level \u001b[38;5;241m<\u001b[39m\u001b[38;5;241m=\u001b[39m logging\u001b[38;5;241m.\u001b[39mDEBUG\n\u001b[1;32m    450\u001b[0m ):\n\u001b[1;32m    451\u001b[0m     \u001b[38;5;28mself\u001b[39m\u001b[38;5;241m.\u001b[39mstdio\u001b[38;5;241m.\u001b[39mdebug(\u001b[38;5;124mf\u001b[39m\u001b[38;5;124m\"\u001b[39m\u001b[38;5;132;01m{\u001b[39;00m\u001b[38;5;28mtype\u001b[39m(e)\u001b[38;5;241m.\u001b[39m\u001b[38;5;18m__name__\u001b[39m\u001b[38;5;132;01m}\u001b[39;00m\u001b[38;5;124m(\u001b[39m\u001b[38;5;132;01m{\u001b[39;00me\u001b[38;5;132;01m}\u001b[39;00m\u001b[38;5;124m)\u001b[39m\u001b[38;5;124m\"\u001b[39m)\n\u001b[0;32m--> 452\u001b[0m \u001b[38;5;28;01mraise\u001b[39;00m e\n",
      "File \u001b[0;32m~/Dropbox/Workspace/code/neuroscales/ngtools/ngtools/scene.py:444\u001b[0m, in \u001b[0;36mautolog.<locals>.wrapper\u001b[0;34m(self, *args, **kwargs)\u001b[0m\n\u001b[1;32m    441\u001b[0m     \u001b[38;5;28mself\u001b[39m\u001b[38;5;241m.\u001b[39mstdio\u001b[38;5;241m.\u001b[39mdebug(\u001b[38;5;124mf\u001b[39m\u001b[38;5;124m\"\u001b[39m\u001b[38;5;132;01m{\u001b[39;00mfunc\u001b[38;5;241m.\u001b[39m\u001b[38;5;18m__name__\u001b[39m\u001b[38;5;132;01m}\u001b[39;00m\u001b[38;5;124m(\u001b[39m\u001b[38;5;132;01m{\u001b[39;00mpargskwargs\u001b[38;5;132;01m}\u001b[39;00m\u001b[38;5;124m)\u001b[39m\u001b[38;5;124m\"\u001b[39m)\n\u001b[1;32m    443\u001b[0m \u001b[38;5;28;01mtry\u001b[39;00m:\n\u001b[0;32m--> 444\u001b[0m     \u001b[38;5;28;01mreturn\u001b[39;00m \u001b[43mfunc\u001b[49m\u001b[43m(\u001b[49m\u001b[38;5;28;43mself\u001b[39;49m\u001b[43m,\u001b[49m\u001b[43m \u001b[49m\u001b[38;5;241;43m*\u001b[39;49m\u001b[43margs\u001b[49m\u001b[43m,\u001b[49m\u001b[43m \u001b[49m\u001b[38;5;241;43m*\u001b[39;49m\u001b[38;5;241;43m*\u001b[39;49m\u001b[43mkwargs\u001b[49m\u001b[43m)\u001b[49m\n\u001b[1;32m    446\u001b[0m \u001b[38;5;28;01mexcept\u001b[39;00m \u001b[38;5;167;01mException\u001b[39;00m \u001b[38;5;28;01mas\u001b[39;00m e:\n\u001b[1;32m    447\u001b[0m     \u001b[38;5;28;01mif\u001b[39;00m (\n\u001b[1;32m    448\u001b[0m         LOG\u001b[38;5;241m.\u001b[39mlevel \u001b[38;5;241m<\u001b[39m\u001b[38;5;241m=\u001b[39m logging\u001b[38;5;241m.\u001b[39mDEBUG \u001b[38;5;129;01mor\u001b[39;00m\n\u001b[1;32m    449\u001b[0m         \u001b[38;5;28mself\u001b[39m\u001b[38;5;241m.\u001b[39mstdio\u001b[38;5;241m.\u001b[39m_level \u001b[38;5;241m<\u001b[39m\u001b[38;5;241m=\u001b[39m logging\u001b[38;5;241m.\u001b[39mDEBUG\n\u001b[1;32m    450\u001b[0m     ):\n",
      "File \u001b[0;32m~/Dropbox/Workspace/code/neuroscales/ngtools/ngtools/scene.py:927\u001b[0m, in \u001b[0;36mScene.space\u001b[0;34m(self, mode, layer)\u001b[0m\n\u001b[1;32m    925\u001b[0m \u001b[38;5;28;01mif\u001b[39;00m layer:\n\u001b[1;32m    926\u001b[0m     \u001b[38;5;28;01mif\u001b[39;00m layer \u001b[38;5;129;01mnot\u001b[39;00m \u001b[38;5;129;01min\u001b[39;00m \u001b[38;5;28mself\u001b[39m\u001b[38;5;241m.\u001b[39mlayers:\n\u001b[0;32m--> 927\u001b[0m         \u001b[38;5;28;01mraise\u001b[39;00m \u001b[38;5;167;01mValueError\u001b[39;00m(\u001b[38;5;124m\"\u001b[39m\u001b[38;5;124mNo layer named:\u001b[39m\u001b[38;5;124m\"\u001b[39m, layer)\n\u001b[1;32m    928\u001b[0m     \u001b[38;5;28;01mif\u001b[39;00m \u001b[38;5;28mlen\u001b[39m(\u001b[38;5;28mgetattr\u001b[39m(\u001b[38;5;28mself\u001b[39m\u001b[38;5;241m.\u001b[39mlayers[layer], \u001b[38;5;124m\"\u001b[39m\u001b[38;5;124msource\u001b[39m\u001b[38;5;124m\"\u001b[39m, [])) \u001b[38;5;241m==\u001b[39m \u001b[38;5;241m0\u001b[39m:\n\u001b[1;32m    929\u001b[0m         \u001b[38;5;28;01mraise\u001b[39;00m \u001b[38;5;167;01mValueError\u001b[39;00m(\u001b[38;5;124mf\u001b[39m\u001b[38;5;124m'\u001b[39m\u001b[38;5;124mLayer \u001b[39m\u001b[38;5;124m\"\u001b[39m\u001b[38;5;132;01m{\u001b[39;00mlayer\u001b[38;5;132;01m}\u001b[39;00m\u001b[38;5;124m does not have a source\u001b[39m\u001b[38;5;124m'\u001b[39m)\n",
      "\u001b[0;31mValueError\u001b[0m: ('No layer named:', 'world')"
     ]
    }
   ],
   "source": [
    "viewer.space(layer=\"world\")"
   ]
  }
 ],
 "metadata": {
  "kernelspec": {
   "display_name": "ngtools",
   "language": "python",
   "name": "python3"
  },
  "language_info": {
   "codemirror_mode": {
    "name": "ipython",
    "version": 3
   },
   "file_extension": ".py",
   "mimetype": "text/x-python",
   "name": "python",
   "nbconvert_exporter": "python",
   "pygments_lexer": "ipython3",
   "version": "3.10.16"
  }
 },
 "nbformat": 4,
 "nbformat_minor": 2
}

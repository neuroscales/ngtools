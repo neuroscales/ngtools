{
 "cells": [
  {
   "cell_type": "code",
   "execution_count": 1,
   "metadata": {},
   "outputs": [],
   "source": [
    "import neuroglancer as ng\n",
    "from neuroglancer.server import global_server_args\n",
    "from ngtools.tracts import TractSource\n",
    "import numpy as np\n"
   ]
  },
  {
   "cell_type": "code",
   "execution_count": 2,
   "metadata": {},
   "outputs": [],
   "source": [
    "TRK = \"https://dandiarchive.s3.amazonaws.com/blobs/d4a/c43/d4ac43bd-6896-4adf-a911-82edbea21f67\"\n",
    "# TRK = \"/Users/balbasty/localdata/linc/streamlines.trk\"\n",
    "NII = \"https://dandiarchive.s3.amazonaws.com/blobs/3de/a2d/3dea2d82-8af8-434f-b7a9-60a21d891985\"\n",
    "LTA = \"https://dandiarchive.s3.amazonaws.com/blobs/4a1/023/4a102340-906b-4ebb-bcf2-43b4655ad549\"\n",
    "HIP = \"https://dandiarchive.s3.amazonaws.com/zarr/5c37c233-222f-4e60-96e7-a7536e08ef61/\"\n"
   ]
  },
  {
   "cell_type": "code",
   "execution_count": 3,
   "metadata": {},
   "outputs": [],
   "source": [
    "# THIS IS A BIT SLOW SO LET's JUST USE VALUES THAT WORK FOR I58\n",
    "qmn, qmx = 0.35, 0.4\n",
    "\n",
    "# # compute HiP-CT min/max values\n",
    "# import zarr\n",
    "# import dask.array\n",
    "# from numbers import Integral\n",
    "#\n",
    "# zarrstore = zarr.storage.FSStore(HIP)\n",
    "# zarrgroup = zarr.group(store=zarrstore)\n",
    "#\n",
    "# coarsest_level = str(max(\n",
    "#     int(dataset['path']) for dataset in\n",
    "#     zarrgroup.attrs.asdict()['multiscales'][0]['datasets']\n",
    "# ))\n",
    "#\n",
    "# array = dask.array.from_zarr(zarrgroup[coarsest_level])\n",
    "# array = np.asarray(array[::128, ::128, ::128])\n",
    "# qmn, qmx = np.quantile(array[array > 0], [0.01,  0.99])\n",
    "#\n",
    "# dtype = array.dtype\n",
    "# if isinstance(dtype, np.dtype):\n",
    "#     dtype = dtype.type\n",
    "# if issubclass(dtype, Integral):\n",
    "#     imx = np.iinfo(array.dtype).max\n",
    "#     qmn /= imx\n",
    "#     qmx /= imx\n",
    "\n",
    "# print(qmn, qmx)\n"
   ]
  },
  {
   "cell_type": "code",
   "execution_count": 4,
   "metadata": {},
   "outputs": [],
   "source": [
    "# Orientation color coding following  Pajevic & Pierpaoli, MRM (1999)\n",
    "# We follow the mirror + rotational symmetry convention\n",
    "colormap_orient = \"\"\"\n",
    "vec3 colormapOrient(vec3 orient) {\n",
    "  vec3 result;\n",
    "  result.r = abs(orient[0]);\n",
    "  result.g = abs(orient[1]);\n",
    "  result.b = abs(orient[2]);\n",
    "  return clamp(result, 0.0, 1.0);\n",
    "}\n",
    "\"\"\"\n",
    "\n",
    "# Runing this in the skeleton shader uses orientation to color tracts\n",
    "orient_shader = colormap_orient + \"\"\"\n",
    "#uicontrol bool orient_color checkbox(default=true)\n",
    "void main() {\n",
    "  if (orient_color)\n",
    "    emitRGB(colormapOrient(orientation));\n",
    "  else\n",
    "  \temitDefault();\n",
    "}\n",
    "\"\"\"\n",
    "\n",
    "mri_shader = \"\"\"\n",
    "#uicontrol float brightness slider(min=0.0, max=1.0, default=0.5)\n",
    "void main() {\n",
    "    float x = clamp(toNormalized(getDataValue()) * brightness, 0.0, 1.0);\n",
    "    float angle = 2.0 * 3.1415926 * (4.0 / 3.0 + x);\n",
    "    float amp = x * (1.0 - x) / 2.0;\n",
    "    vec3 result;\n",
    "    float cosangle = cos(angle);\n",
    "    float sinangle = sin(angle);\n",
    "    result.r = -0.14861 * cosangle + 1.78277 * sinangle;\n",
    "    result.g = -0.29227 * cosangle + -0.90649 * sinangle;\n",
    "    result.b = 1.97294 * cosangle;\n",
    "    result = clamp(x + amp * result, 0.0, 1.0);\n",
    "    emitRGB(result);\n",
    "}\n",
    "\"\"\"\n",
    "\n",
    "op, cl = r'{}'\n",
    "hip_shader = f\"\"\"\n",
    "#uicontrol float brightness slider(min=0.0, max=1.0, default=0.5)\n",
    "void main() {op}\n",
    "    float raw = toNormalized(getDataValue());\n",
    "    float aff = (raw - {qmn})/({qmx} - {qmn});\n",
    "    float x = clamp(aff * brightness, 0.0, 1.0);\n",
    "    float angle = 2.0 * 3.1415926 * (4.0 / 3.0 + x);\n",
    "    float amp = x * (1.0 - x) / 2.0;\n",
    "    vec3 result;\n",
    "    float cosangle = cos(angle);\n",
    "    float sinangle = sin(angle);\n",
    "    result.g = -0.14861 * cosangle + 1.78277 * sinangle;\n",
    "    result.r = -0.29227 * cosangle + -0.90649 * sinangle;\n",
    "    result.b = 1.97294 * cosangle;\n",
    "    result = clamp(x + amp * result, 0.0, 1.0);\n",
    "    emitRGB(result);\n",
    "{cl}\n",
    "\"\"\"\n"
   ]
  },
  {
   "cell_type": "code",
   "execution_count": 5,
   "metadata": {},
   "outputs": [
    {
     "name": "stdout",
     "output_type": "stream",
     "text": [
      "http://127.0.0.1:9999/v/1/\n"
     ]
    }
   ],
   "source": [
    "global_server_args['bind_port'] = '9999'\n",
    "viewer = ng.Viewer(token='1')\n",
    "print(viewer.get_viewer_url())\n"
   ]
  },
  {
   "cell_type": "code",
   "execution_count": 6,
   "metadata": {},
   "outputs": [],
   "source": [
    "# figure out HiP-CT // MRI transform\n",
    "\n",
    "# HIP2HIP: fix ras space\n",
    "# I made a mistake when I built the vox2ras of the low-res hipct\n",
    "# This transforms maps from the true hip-ct RAS space to the \"wrong\" one\n",
    "rasfix2rasnofix = (\n",
    "    [[1.     ,  0.     ,  0.     ,  -.37896],\n",
    "    [ 0.     ,  1.     ,  0.     ,  -.37896],\n",
    "    [ 0.     ,  0.     ,  1.     ,  -.37896],\n",
    "    [ 0.     ,  0.     ,  0.     ,  1.     ]]\n",
    ")\n",
    "\n",
    "# HIP2MRI ras2ras (copy-pasted from the LTA)\n",
    "ras2ras = np.asarray([\n",
    "    [7.898524999618530e-01, -6.120176240801811e-02, -7.702938914299011e-01,  1.671681823730469e+02],\n",
    "    [2.419907413423061e-02,  1.071445226669312e+00, -3.254489228129387e-02, -1.881584472656250e+02],\n",
    "    [8.082613945007324e-01,  8.847340941429138e-02,  7.198479175567627e-01,  9.310166931152344e+01],\n",
    "    [0.000000000000000e+00,  0.000000000000000e+00,  0.000000000000000e+00,  1.000000000000000e+00],\n",
    "])\n",
    "\n",
    "# HIP2HIP: reorient\n",
    "pli2ras = np.asarray([\n",
    "    [ 0.     ,  0.     , -1.     ,  0.     ],\n",
    "    [-1.     ,  0.     ,  0.     ,  0.     ],\n",
    "    [ 0.     , -1.     ,  0.     ,  0.     ],\n",
    "    [ 0.     ,  0.     ,  0.     ,  1.     ],\n",
    "])\n",
    "\n",
    "phys2mri = ras2ras @ rasfix2rasnofix @ pli2ras\n"
   ]
  },
  {
   "cell_type": "code",
   "execution_count": 7,
   "metadata": {},
   "outputs": [
    {
     "name": "stdout",
     "output_type": "stream",
     "text": [
      "error Invalid magic number: b'type      = 1'\n"
     ]
    },
    {
     "ename": "KeyError",
     "evalue": "'trk'",
     "output_type": "error",
     "traceback": [
      "\u001b[0;31m---------------------------------------------------------------------------\u001b[0m",
      "\u001b[0;31mKeyError\u001b[0m                                  Traceback (most recent call last)",
      "Cell \u001b[0;32mIn[7], line 36\u001b[0m\n\u001b[1;32m     16\u001b[0m state\u001b[38;5;241m.\u001b[39mlayers\u001b[38;5;241m.\u001b[39mappend(\n\u001b[1;32m     17\u001b[0m     name\u001b[38;5;241m=\u001b[39m\u001b[38;5;124m\"\u001b[39m\u001b[38;5;124mmri\u001b[39m\u001b[38;5;124m\"\u001b[39m,\n\u001b[1;32m     18\u001b[0m     layer\u001b[38;5;241m=\u001b[39mng\u001b[38;5;241m.\u001b[39mImageLayer(\n\u001b[0;32m   (...)\u001b[0m\n\u001b[1;32m     21\u001b[0m     )\n\u001b[1;32m     22\u001b[0m )\n\u001b[1;32m     23\u001b[0m state\u001b[38;5;241m.\u001b[39mlayers\u001b[38;5;241m.\u001b[39mappend(\n\u001b[1;32m     24\u001b[0m     name\u001b[38;5;241m=\u001b[39m\u001b[38;5;124m\"\u001b[39m\u001b[38;5;124mhip-ct\u001b[39m\u001b[38;5;124m\"\u001b[39m,\n\u001b[1;32m     25\u001b[0m     layer\u001b[38;5;241m=\u001b[39mng\u001b[38;5;241m.\u001b[39mImageLayer(\n\u001b[0;32m   (...)\u001b[0m\n\u001b[1;32m     31\u001b[0m     )\n\u001b[1;32m     32\u001b[0m )\n\u001b[1;32m     33\u001b[0m state\u001b[38;5;241m.\u001b[39mlayers\u001b[38;5;241m.\u001b[39mappend(\n\u001b[1;32m     34\u001b[0m     name\u001b[38;5;241m=\u001b[39m\u001b[38;5;124m\"\u001b[39m\u001b[38;5;124mtracts\u001b[39m\u001b[38;5;124m\"\u001b[39m,\n\u001b[1;32m     35\u001b[0m     layer\u001b[38;5;241m=\u001b[39mng\u001b[38;5;241m.\u001b[39mSegmentationLayer(\n\u001b[0;32m---> 36\u001b[0m         source\u001b[38;5;241m=\u001b[39m[\u001b[43mTractSource\u001b[49m\u001b[43m(\u001b[49m\u001b[43mTRK\u001b[49m\u001b[43m,\u001b[49m\u001b[43m \u001b[49m\u001b[43mmax_tracts\u001b[49m\u001b[38;5;241;43m=\u001b[39;49m\u001b[38;5;241;43m10\u001b[39;49m\u001b[43m)\u001b[49m],  \u001b[38;5;66;03m# faster if lower number\u001b[39;00m\n\u001b[1;32m     37\u001b[0m         skeleton_shader\u001b[38;5;241m=\u001b[39morient_shader,\n\u001b[1;32m     38\u001b[0m         selected_alpha\u001b[38;5;241m=\u001b[39m\u001b[38;5;241m0\u001b[39m,\n\u001b[1;32m     39\u001b[0m         not_selected_alpha\u001b[38;5;241m=\u001b[39m\u001b[38;5;241m0\u001b[39m,\n\u001b[1;32m     40\u001b[0m         segments\u001b[38;5;241m=\u001b[39m[\u001b[38;5;241m1\u001b[39m],\n\u001b[1;32m     41\u001b[0m     ),\n\u001b[1;32m     42\u001b[0m )\n",
      "File \u001b[0;32m~/Dropbox/Workspace/code/balbasty/test/ngtracts/ngtools/tracts.py:80\u001b[0m, in \u001b[0;36mTractSource.__init__\u001b[0;34m(self, fileobj, max_tracts, format, **kwargs)\u001b[0m\n\u001b[1;32m     77\u001b[0m \u001b[38;5;28mself\u001b[39m\u001b[38;5;241m.\u001b[39mdisplayed_tracts \u001b[38;5;241m=\u001b[39m \u001b[38;5;28;01mNone\u001b[39;00m\n\u001b[1;32m     78\u001b[0m \u001b[38;5;28mself\u001b[39m\u001b[38;5;241m.\u001b[39mdisplayed_orientations \u001b[38;5;241m=\u001b[39m \u001b[38;5;28;01mNone\u001b[39;00m\n\u001b[0;32m---> 80\u001b[0m \u001b[38;5;28;43mself\u001b[39;49m\u001b[38;5;241;43m.\u001b[39;49m\u001b[43m_ensure_loaded\u001b[49m\u001b[43m(\u001b[49m\u001b[43mlazy\u001b[49m\u001b[38;5;241;43m=\u001b[39;49m\u001b[38;5;28;43;01mTrue\u001b[39;49;00m\u001b[43m)\u001b[49m\n\u001b[1;32m     81\u001b[0m \u001b[38;5;28msuper\u001b[39m()\u001b[38;5;241m.\u001b[39m\u001b[38;5;21m__init__\u001b[39m(CoordinateSpace(\n\u001b[1;32m     82\u001b[0m     names\u001b[38;5;241m=\u001b[39m[\u001b[38;5;124m\"\u001b[39m\u001b[38;5;124mx\u001b[39m\u001b[38;5;124m\"\u001b[39m, \u001b[38;5;124m\"\u001b[39m\u001b[38;5;124my\u001b[39m\u001b[38;5;124m\"\u001b[39m, \u001b[38;5;124m\"\u001b[39m\u001b[38;5;124mz\u001b[39m\u001b[38;5;124m\"\u001b[39m],\n\u001b[1;32m     83\u001b[0m     units\u001b[38;5;241m=\u001b[39m\u001b[38;5;124m\"\u001b[39m\u001b[38;5;124mmm\u001b[39m\u001b[38;5;124m\"\u001b[39m,\n\u001b[1;32m     84\u001b[0m     scales\u001b[38;5;241m=\u001b[39m[\u001b[38;5;241m1\u001b[39m, \u001b[38;5;241m1\u001b[39m, \u001b[38;5;241m1\u001b[39m],\n\u001b[1;32m     85\u001b[0m ), \u001b[38;5;241m*\u001b[39m\u001b[38;5;241m*\u001b[39mkwargs)\n\u001b[1;32m     86\u001b[0m \u001b[38;5;28mself\u001b[39m\u001b[38;5;241m.\u001b[39mvertex_attributes[\u001b[38;5;124m\"\u001b[39m\u001b[38;5;124morientation\u001b[39m\u001b[38;5;124m\"\u001b[39m] \u001b[38;5;241m=\u001b[39m VertexAttributeInfo(\n\u001b[1;32m     87\u001b[0m     data_type\u001b[38;5;241m=\u001b[39mnp\u001b[38;5;241m.\u001b[39mfloat32,\n\u001b[1;32m     88\u001b[0m     num_components\u001b[38;5;241m=\u001b[39m\u001b[38;5;241m3\u001b[39m,\n\u001b[1;32m     89\u001b[0m )\n",
      "File \u001b[0;32m~/Dropbox/Workspace/code/balbasty/test/ngtracts/ngtools/tracts.py:124\u001b[0m, in \u001b[0;36mTractSource._ensure_loaded\u001b[0;34m(self, lazy)\u001b[0m\n\u001b[1;32m    122\u001b[0m \u001b[38;5;28;01mif\u001b[39;00m \u001b[38;5;28misinstance\u001b[39m(\u001b[38;5;28mself\u001b[39m\u001b[38;5;241m.\u001b[39mfileobj, \u001b[38;5;28mstr\u001b[39m):\n\u001b[1;32m    123\u001b[0m     \u001b[38;5;28;01mwith\u001b[39;00m fsspec\u001b[38;5;241m.\u001b[39mopen(\u001b[38;5;28mself\u001b[39m\u001b[38;5;241m.\u001b[39mfileobj) \u001b[38;5;28;01mas\u001b[39;00m f:\n\u001b[0;32m--> 124\u001b[0m         \u001b[43mload\u001b[49m\u001b[43m(\u001b[49m\u001b[43mf\u001b[49m\u001b[43m)\u001b[49m\n\u001b[1;32m    125\u001b[0m \u001b[38;5;28;01melse\u001b[39;00m:\n\u001b[1;32m    126\u001b[0m     load(f)\n",
      "File \u001b[0;32m~/Dropbox/Workspace/code/balbasty/test/ngtracts/ngtools/tracts.py:120\u001b[0m, in \u001b[0;36mTractSource._ensure_loaded.<locals>.load\u001b[0;34m(f)\u001b[0m\n\u001b[1;32m    116\u001b[0m         errors[\u001b[38;5;28mformat\u001b[39m] \u001b[38;5;241m=\u001b[39m e\n\u001b[1;32m    118\u001b[0m \u001b[38;5;28mprint\u001b[39m(\u001b[38;5;124m'\u001b[39m\u001b[38;5;124merror\u001b[39m\u001b[38;5;124m'\u001b[39m, \u001b[38;5;241m*\u001b[39merrors\u001b[38;5;241m.\u001b[39mvalues())\n\u001b[1;32m    119\u001b[0m \u001b[38;5;28;01mraise\u001b[39;00m \u001b[38;5;167;01mRuntimeError\u001b[39;00m(\u001b[38;5;124m'\u001b[39m\u001b[38;5;130;01m\\n\u001b[39;00m\u001b[38;5;124m'\u001b[39m\u001b[38;5;241m.\u001b[39mjoin(\n\u001b[0;32m--> 120\u001b[0m     [\u001b[38;5;124mf\u001b[39m\u001b[38;5;124m'\u001b[39m\u001b[38;5;132;01m{\u001b[39;00m\u001b[38;5;28mformat\u001b[39m\u001b[38;5;132;01m}\u001b[39;00m\u001b[38;5;124m: \u001b[39m\u001b[38;5;132;01m{\u001b[39;00merrors[\u001b[38;5;28mformat\u001b[39m]\u001b[38;5;132;01m}\u001b[39;00m\u001b[38;5;124m'\u001b[39m \u001b[38;5;28;01mfor\u001b[39;00m \u001b[38;5;28mformat\u001b[39m \u001b[38;5;129;01min\u001b[39;00m \u001b[38;5;28mself\u001b[39m\u001b[38;5;241m.\u001b[39mformat]))\n",
      "File \u001b[0;32m~/Dropbox/Workspace/code/balbasty/test/ngtracts/ngtools/tracts.py:120\u001b[0m, in \u001b[0;36m<listcomp>\u001b[0;34m(.0)\u001b[0m\n\u001b[1;32m    116\u001b[0m         errors[\u001b[38;5;28mformat\u001b[39m] \u001b[38;5;241m=\u001b[39m e\n\u001b[1;32m    118\u001b[0m \u001b[38;5;28mprint\u001b[39m(\u001b[38;5;124m'\u001b[39m\u001b[38;5;124merror\u001b[39m\u001b[38;5;124m'\u001b[39m, \u001b[38;5;241m*\u001b[39merrors\u001b[38;5;241m.\u001b[39mvalues())\n\u001b[1;32m    119\u001b[0m \u001b[38;5;28;01mraise\u001b[39;00m \u001b[38;5;167;01mRuntimeError\u001b[39;00m(\u001b[38;5;124m'\u001b[39m\u001b[38;5;130;01m\\n\u001b[39;00m\u001b[38;5;124m'\u001b[39m\u001b[38;5;241m.\u001b[39mjoin(\n\u001b[0;32m--> 120\u001b[0m     [\u001b[38;5;124mf\u001b[39m\u001b[38;5;124m'\u001b[39m\u001b[38;5;132;01m{\u001b[39;00m\u001b[38;5;28mformat\u001b[39m\u001b[38;5;132;01m}\u001b[39;00m\u001b[38;5;124m: \u001b[39m\u001b[38;5;132;01m{\u001b[39;00merrors[\u001b[38;5;28mformat\u001b[39m]\u001b[38;5;132;01m}\u001b[39;00m\u001b[38;5;124m'\u001b[39m \u001b[38;5;28;01mfor\u001b[39;00m \u001b[38;5;28mformat\u001b[39m \u001b[38;5;129;01min\u001b[39;00m \u001b[38;5;28mself\u001b[39m\u001b[38;5;241m.\u001b[39mformat]))\n",
      "\u001b[0;31mKeyError\u001b[0m: 'trk'"
     ]
    }
   ],
   "source": [
    "hip_transform = ng.CoordinateSpaceTransform(\n",
    "    matrix=phys2mri[:3, :4],\n",
    "    input_dimensions=ng.CoordinateSpace(\n",
    "        names=[\"z\", \"y\", \"x\"],\n",
    "        units=\"mm\",\n",
    "        scales=[15.13e-3]*3,\n",
    "    ),\n",
    "    output_dimensions=ng.CoordinateSpace(\n",
    "        names=[\"x\", \"y\", \"z\"],\n",
    "        units=\"mm\",\n",
    "        scales=[1]*3,\n",
    "    )\n",
    ")\n",
    "\n",
    "with viewer.txn() as state:\n",
    "    state.layers.append(\n",
    "        name=\"mri\",\n",
    "        layer=ng.ImageLayer(\n",
    "            source=[\"nifti://\" + NII],\n",
    "            shader=mri_shader,\n",
    "        )\n",
    "    )\n",
    "    state.layers.append(\n",
    "        name=\"hip-ct\",\n",
    "        layer=ng.ImageLayer(\n",
    "            source=ng.LayerDataSource(\n",
    "              url=\"zarr://\" + HIP,\n",
    "              transform=hip_transform\n",
    "            ),\n",
    "            shader=hip_shader,\n",
    "        )\n",
    "    )\n",
    "    state.layers.append(\n",
    "        name=\"tracts\",\n",
    "        layer=ng.SegmentationLayer(\n",
    "            source=[TractSource(TRK, max_tracts=10)],  # faster if lower number\n",
    "            skeleton_shader=orient_shader,\n",
    "            selected_alpha=0,\n",
    "            not_selected_alpha=0,\n",
    "            segments=[1],\n",
    "        ),\n",
    "    )\n"
   ]
  }
 ],
 "metadata": {
  "kernelspec": {
   "display_name": "ngtracts",
   "language": "python",
   "name": "python3"
  },
  "language_info": {
   "codemirror_mode": {
    "name": "ipython",
    "version": 3
   },
   "file_extension": ".py",
   "mimetype": "text/x-python",
   "name": "python",
   "nbconvert_exporter": "python",
   "pygments_lexer": "ipython3",
   "version": "3.8.18"
  }
 },
 "nbformat": 4,
 "nbformat_minor": 2
}
